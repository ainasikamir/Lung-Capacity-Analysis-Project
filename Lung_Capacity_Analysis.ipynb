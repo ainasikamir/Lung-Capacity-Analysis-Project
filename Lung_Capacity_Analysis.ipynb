{
 "cells": [
  {
   "cell_type": "markdown",
   "id": "96d28b9d",
   "metadata": {},
   "source": [
    "# Importing libraries"
   ]
  },
  {
   "cell_type": "code",
   "execution_count": null,
   "id": "d583bbd4",
   "metadata": {},
   "outputs": [],
   "source": [
    "import pandas as pd"
   ]
  },
  {
   "cell_type": "code",
   "execution_count": null,
   "id": "9f700a44",
   "metadata": {},
   "outputs": [],
   "source": [
    "import numpy as np"
   ]
  },
  {
   "cell_type": "code",
   "execution_count": null,
   "id": "9a55f80d",
   "metadata": {},
   "outputs": [],
   "source": [
    "import statsmodels.api as sm"
   ]
  },
  {
   "cell_type": "code",
   "execution_count": null,
   "id": "3140beee",
   "metadata": {},
   "outputs": [],
   "source": [
    "from statsmodels.formula.api import ols"
   ]
  },
  {
   "cell_type": "code",
   "execution_count": null,
   "id": "fff058bb",
   "metadata": {},
   "outputs": [],
   "source": [
    "import matplotlib.pyplot as plt"
   ]
  },
  {
   "cell_type": "code",
   "execution_count": null,
   "id": "423361fe",
   "metadata": {},
   "outputs": [],
   "source": [
    "import seaborn as sns"
   ]
  },
  {
   "cell_type": "code",
   "execution_count": null,
   "id": "83c745c6",
   "metadata": {},
   "outputs": [],
   "source": []
  },
  {
   "cell_type": "markdown",
   "id": "54f6ab62",
   "metadata": {},
   "source": [
    "# Load the dataset into a data frame"
   ]
  },
  {
   "cell_type": "code",
   "execution_count": null,
   "id": "c30baa45",
   "metadata": {},
   "outputs": [],
   "source": [
    "lungcapacity_df = pd.read_excel ('/Users/ajnazikamir/Desktop/LungCapData2.xlsx')"
   ]
  },
  {
   "cell_type": "code",
   "execution_count": null,
   "id": "96b9add1",
   "metadata": {},
   "outputs": [],
   "source": [
    "lungcapacity_df"
   ]
  },
  {
   "cell_type": "code",
   "execution_count": null,
   "id": "65860b42",
   "metadata": {},
   "outputs": [],
   "source": []
  },
  {
   "cell_type": "markdown",
   "id": "f9ba4074",
   "metadata": {},
   "source": [
    "# Display the first few rows of the DataFrame to understand its structure"
   ]
  },
  {
   "cell_type": "code",
   "execution_count": null,
   "id": "6cdb3808",
   "metadata": {},
   "outputs": [],
   "source": [
    "print(lungcapacity_df.head())"
   ]
  },
  {
   "cell_type": "code",
   "execution_count": null,
   "id": "f95f8d62",
   "metadata": {},
   "outputs": [],
   "source": []
  },
  {
   "cell_type": "markdown",
   "id": "51d13903",
   "metadata": {},
   "source": [
    "# Check the data types and structure of the DataFrame"
   ]
  },
  {
   "cell_type": "code",
   "execution_count": null,
   "id": "952843ae",
   "metadata": {},
   "outputs": [],
   "source": [
    "print(lungcapacity_df.info())"
   ]
  },
  {
   "cell_type": "code",
   "execution_count": null,
   "id": "c8e95f55",
   "metadata": {},
   "outputs": [],
   "source": []
  },
  {
   "cell_type": "markdown",
   "id": "79943995",
   "metadata": {},
   "source": [
    "# Check for missing data"
   ]
  },
  {
   "cell_type": "code",
   "execution_count": null,
   "id": "073713f5",
   "metadata": {},
   "outputs": [],
   "source": [
    "print(lungcapacity_df.isnull().sum())"
   ]
  },
  {
   "cell_type": "code",
   "execution_count": null,
   "id": "b9ec447c",
   "metadata": {},
   "outputs": [],
   "source": []
  },
  {
   "cell_type": "markdown",
   "id": "12e00c43",
   "metadata": {},
   "source": [
    "# Describe the statistical summary of non-binary numerical variables"
   ]
  },
  {
   "cell_type": "code",
   "execution_count": null,
   "id": "0d79afcc",
   "metadata": {},
   "outputs": [],
   "source": [
    "print(lungcapacity_df.describe())"
   ]
  },
  {
   "cell_type": "code",
   "execution_count": null,
   "id": "0c95296b",
   "metadata": {},
   "outputs": [],
   "source": []
  },
  {
   "cell_type": "markdown",
   "id": "9d6acada",
   "metadata": {},
   "source": [
    "# Check for null values"
   ]
  },
  {
   "cell_type": "code",
   "execution_count": null,
   "id": "c8d04c8e",
   "metadata": {},
   "outputs": [],
   "source": [
    "null_values = lungcapacity_df.isnull().sum()"
   ]
  },
  {
   "cell_type": "code",
   "execution_count": null,
   "id": "585c0b6c",
   "metadata": {},
   "outputs": [],
   "source": [
    "print(\"Null values in the dataset:\\n\", null_values)"
   ]
  },
  {
   "cell_type": "code",
   "execution_count": null,
   "id": "4d4290de",
   "metadata": {},
   "outputs": [],
   "source": []
  },
  {
   "cell_type": "markdown",
   "id": "27444761",
   "metadata": {},
   "source": [
    "# Here is another way for descriptive statistical analysis"
   ]
  },
  {
   "cell_type": "code",
   "execution_count": null,
   "id": "a1cc5b96",
   "metadata": {},
   "outputs": [],
   "source": [
    "description = lungcapacity_df.describe()"
   ]
  },
  {
   "cell_type": "code",
   "execution_count": null,
   "id": "a539a34b",
   "metadata": {},
   "outputs": [],
   "source": [
    "print(\"Descriptive Statistical Analysis:\\n\", description)"
   ]
  },
  {
   "cell_type": "code",
   "execution_count": null,
   "id": "76126f6f",
   "metadata": {},
   "outputs": [],
   "source": []
  },
  {
   "cell_type": "markdown",
   "id": "2e65a64e",
   "metadata": {},
   "source": [
    "# Visualize the distribution of numerical variables"
   ]
  },
  {
   "cell_type": "code",
   "execution_count": null,
   "id": "b6620864",
   "metadata": {},
   "outputs": [],
   "source": [
    "plt.figure(figsize=(12, 4))"
   ]
  },
  {
   "cell_type": "code",
   "execution_count": null,
   "id": "40cfed06",
   "metadata": {},
   "outputs": [],
   "source": []
  },
  {
   "cell_type": "markdown",
   "id": "8e459960",
   "metadata": {},
   "source": [
    "# Distribution of Age"
   ]
  },
  {
   "cell_type": "code",
   "execution_count": null,
   "id": "48dc545e",
   "metadata": {},
   "outputs": [],
   "source": [
    "plt.figure(figsize=(8, 6))"
   ]
  },
  {
   "cell_type": "code",
   "execution_count": null,
   "id": "0e300edd",
   "metadata": {},
   "outputs": [],
   "source": [
    "sns.histplot(lungcapacity_df['Age'], kde=True, color='green', bins=50)"
   ]
  },
  {
   "cell_type": "code",
   "execution_count": null,
   "id": "93b6332b",
   "metadata": {},
   "outputs": [],
   "source": [
    "plt.title('Distribution of Age')"
   ]
  },
  {
   "cell_type": "code",
   "execution_count": null,
   "id": "f8f7986b",
   "metadata": {},
   "outputs": [],
   "source": [
    "plt.xlabel('Age')"
   ]
  },
  {
   "cell_type": "code",
   "execution_count": null,
   "id": "888d21bd",
   "metadata": {},
   "outputs": [],
   "source": [
    "plt.ylabel('Frequency')"
   ]
  },
  {
   "cell_type": "code",
   "execution_count": null,
   "id": "832c240a",
   "metadata": {},
   "outputs": [],
   "source": [
    "plt.show()"
   ]
  },
  {
   "cell_type": "code",
   "execution_count": null,
   "id": "82dc4f70",
   "metadata": {},
   "outputs": [],
   "source": []
  },
  {
   "cell_type": "markdown",
   "id": "3c371de5",
   "metadata": {},
   "source": [
    "# Distribution of Lung Capacity"
   ]
  },
  {
   "cell_type": "code",
   "execution_count": null,
   "id": "e64e93ed",
   "metadata": {},
   "outputs": [],
   "source": [
    "plt.figure(figsize=(8, 6))"
   ]
  },
  {
   "cell_type": "code",
   "execution_count": null,
   "id": "05b7f441",
   "metadata": {},
   "outputs": [],
   "source": [
    "sns.histplot(lungcapacity_df['LungCap'], kde=True, color='blue', bins=50)"
   ]
  },
  {
   "cell_type": "code",
   "execution_count": null,
   "id": "24c426f5",
   "metadata": {},
   "outputs": [],
   "source": [
    "plt.title('Distribution of Lung Capacity')"
   ]
  },
  {
   "cell_type": "code",
   "execution_count": null,
   "id": "c3b45ee2",
   "metadata": {},
   "outputs": [],
   "source": [
    "plt.xlabel('Lung Capacity')"
   ]
  },
  {
   "cell_type": "code",
   "execution_count": null,
   "id": "ebc5f2a1",
   "metadata": {},
   "outputs": [],
   "source": [
    "plt.ylabel('Frequency')"
   ]
  },
  {
   "cell_type": "code",
   "execution_count": null,
   "id": "967dab7e",
   "metadata": {},
   "outputs": [],
   "source": [
    "plt.show()"
   ]
  },
  {
   "cell_type": "code",
   "execution_count": null,
   "id": "ac7e2852",
   "metadata": {},
   "outputs": [],
   "source": []
  },
  {
   "cell_type": "markdown",
   "id": "44a7ef1a",
   "metadata": {},
   "source": [
    "# Distribution of Height"
   ]
  },
  {
   "cell_type": "code",
   "execution_count": null,
   "id": "fe49bfec",
   "metadata": {},
   "outputs": [],
   "source": [
    "plt.figure(figsize=(8, 6))"
   ]
  },
  {
   "cell_type": "code",
   "execution_count": null,
   "id": "4c247764",
   "metadata": {},
   "outputs": [],
   "source": [
    "sns.histplot(lungcapacity_df['Height'], kde=True, color='red',bins=50)"
   ]
  },
  {
   "cell_type": "code",
   "execution_count": null,
   "id": "17ceb33b",
   "metadata": {},
   "outputs": [],
   "source": [
    "plt.title('Distribution of Height')"
   ]
  },
  {
   "cell_type": "code",
   "execution_count": null,
   "id": "cfc5545b",
   "metadata": {},
   "outputs": [],
   "source": []
  },
  {
   "cell_type": "markdown",
   "id": "cea731cd",
   "metadata": {},
   "source": [
    "# Count the occurrences of each gender"
   ]
  },
  {
   "cell_type": "code",
   "execution_count": null,
   "id": "e5423e9e",
   "metadata": {},
   "outputs": [],
   "source": [
    "gender_counts = lungcapacity_df['Gender'].value_counts()"
   ]
  },
  {
   "cell_type": "code",
   "execution_count": null,
   "id": "7fa70af1",
   "metadata": {},
   "outputs": [],
   "source": [
    "print(\"Occurrences of each gender:\\n\", gender_counts)"
   ]
  },
  {
   "cell_type": "code",
   "execution_count": null,
   "id": "94cb4b40",
   "metadata": {},
   "outputs": [],
   "source": []
  },
  {
   "cell_type": "markdown",
   "id": "2e563dba",
   "metadata": {},
   "source": [
    "# Visualize the count of occurrences for each gender"
   ]
  },
  {
   "cell_type": "code",
   "execution_count": null,
   "id": "73e61c7f",
   "metadata": {},
   "outputs": [],
   "source": [
    "plt.figure(figsize=(6, 4))"
   ]
  },
  {
   "cell_type": "code",
   "execution_count": null,
   "id": "18535414",
   "metadata": {},
   "outputs": [],
   "source": [
    "sns.countplot(x='Gender', data=lungcapacity_df, palette='viridis')"
   ]
  },
  {
   "cell_type": "code",
   "execution_count": null,
   "id": "8504b986",
   "metadata": {},
   "outputs": [],
   "source": [
    "plt.title('Occurrences of Each Gender')"
   ]
  },
  {
   "cell_type": "code",
   "execution_count": null,
   "id": "4c8a8be9",
   "metadata": {},
   "outputs": [],
   "source": [
    "plt.xlabel('Gender')"
   ]
  },
  {
   "cell_type": "code",
   "execution_count": null,
   "id": "5b16c039",
   "metadata": {},
   "outputs": [],
   "source": [
    "plt.ylabel('Count')"
   ]
  },
  {
   "cell_type": "code",
   "execution_count": null,
   "id": "306cbb70",
   "metadata": {},
   "outputs": [],
   "source": [
    "plt.xticks(ticks=range(len(gender_counts)), labels=gender_counts.index)"
   ]
  },
  {
   "cell_type": "code",
   "execution_count": null,
   "id": "2fb8944d",
   "metadata": {},
   "outputs": [],
   "source": [
    "plt.show()"
   ]
  },
  {
   "cell_type": "code",
   "execution_count": null,
   "id": "19e88c19",
   "metadata": {},
   "outputs": [],
   "source": []
  },
  {
   "cell_type": "markdown",
   "id": "3b4e96db",
   "metadata": {},
   "source": [
    "# Count the occurrences of smoking status"
   ]
  },
  {
   "cell_type": "code",
   "execution_count": null,
   "id": "b783cc49",
   "metadata": {},
   "outputs": [],
   "source": [
    "smoking_counts = lungcapacity_df['Smoke'].value_counts()"
   ]
  },
  {
   "cell_type": "code",
   "execution_count": null,
   "id": "d3c8bba0",
   "metadata": {},
   "outputs": [],
   "source": [
    "print(\"Occurrences of smoking status:\\n\", smoking_counts)"
   ]
  },
  {
   "cell_type": "code",
   "execution_count": null,
   "id": "c19c12ae",
   "metadata": {},
   "outputs": [],
   "source": []
  },
  {
   "cell_type": "markdown",
   "id": "780c9189",
   "metadata": {},
   "source": [
    "# Visualize the count of occurrences for smoking status"
   ]
  },
  {
   "cell_type": "code",
   "execution_count": null,
   "id": "3674ab60",
   "metadata": {},
   "outputs": [],
   "source": [
    "plt.figure(figsize=(6, 4))"
   ]
  },
  {
   "cell_type": "code",
   "execution_count": null,
   "id": "eadd8880",
   "metadata": {},
   "outputs": [],
   "source": [
    "sns.countplot(x='Smoke', data=lungcapacity_df, palette='viridis')"
   ]
  },
  {
   "cell_type": "code",
   "execution_count": null,
   "id": "2fed3614",
   "metadata": {},
   "outputs": [],
   "source": [
    "plt.title('Occurrences of Smoking Status')"
   ]
  },
  {
   "cell_type": "code",
   "execution_count": null,
   "id": "455e23dd",
   "metadata": {},
   "outputs": [],
   "source": [
    "plt.xlabel('Smoking Status')"
   ]
  },
  {
   "cell_type": "code",
   "execution_count": null,
   "id": "400bea98",
   "metadata": {},
   "outputs": [],
   "source": [
    "plt.ylabel('Count')"
   ]
  },
  {
   "cell_type": "code",
   "execution_count": null,
   "id": "01430e9b",
   "metadata": {},
   "outputs": [],
   "source": [
    "plt.xticks(ticks=range(len(smoking_counts)), labels=smoking_counts.index)"
   ]
  },
  {
   "cell_type": "code",
   "execution_count": null,
   "id": "c3539403",
   "metadata": {},
   "outputs": [],
   "source": [
    "plt.show()"
   ]
  },
  {
   "cell_type": "code",
   "execution_count": null,
   "id": "bd849247",
   "metadata": {},
   "outputs": [],
   "source": []
  },
  {
   "cell_type": "markdown",
   "id": "5d56e7b9",
   "metadata": {},
   "source": [
    "# Convert categorical variables to numeric using one-hot encoding"
   ]
  },
  {
   "cell_type": "code",
   "execution_count": null,
   "id": "722de52c",
   "metadata": {},
   "outputs": [],
   "source": [
    "lungcapacity_df_encoded = pd.get_dummies(lungcapacity_df, columns=['Gender', 'Smoke'], drop_first=True)"
   ]
  },
  {
   "cell_type": "code",
   "execution_count": null,
   "id": "249185ad",
   "metadata": {},
   "outputs": [],
   "source": []
  },
  {
   "cell_type": "markdown",
   "id": "fe72b871",
   "metadata": {},
   "source": [
    "# Correlation matrix"
   ]
  },
  {
   "cell_type": "code",
   "execution_count": null,
   "id": "8ec1afa4",
   "metadata": {},
   "outputs": [],
   "source": [
    "correlation_matrix = lungcapacity_df_encoded.corr()"
   ]
  },
  {
   "cell_type": "code",
   "execution_count": null,
   "id": "4c70d645",
   "metadata": {},
   "outputs": [],
   "source": [
    "print(\"Correlation matrix:\\n\", correlation_matrix)"
   ]
  },
  {
   "cell_type": "code",
   "execution_count": null,
   "id": "97f3a159",
   "metadata": {},
   "outputs": [],
   "source": []
  },
  {
   "cell_type": "markdown",
   "id": "8d28202b",
   "metadata": {},
   "source": [
    "# Heatmap of correlation matrix"
   ]
  },
  {
   "cell_type": "code",
   "execution_count": null,
   "id": "0bcdd8b1",
   "metadata": {},
   "outputs": [],
   "source": [
    "plt.figure(figsize=(8, 6))"
   ]
  },
  {
   "cell_type": "code",
   "execution_count": null,
   "id": "af5a70f9",
   "metadata": {},
   "outputs": [],
   "source": [
    "sns.heatmap(correlation_matrix, annot=True, cmap='coolwarm', fmt=\".2f\", annot_kws={\"size\": 10})"
   ]
  },
  {
   "cell_type": "code",
   "execution_count": null,
   "id": "740f5aa0",
   "metadata": {},
   "outputs": [],
   "source": [
    "plt.title('Correlation Matrix')"
   ]
  },
  {
   "cell_type": "code",
   "execution_count": null,
   "id": "42e9776f",
   "metadata": {},
   "outputs": [],
   "source": [
    "plt.show()"
   ]
  },
  {
   "cell_type": "code",
   "execution_count": null,
   "id": "a5a20adb",
   "metadata": {},
   "outputs": [],
   "source": []
  },
  {
   "cell_type": "markdown",
   "id": "30b325ce",
   "metadata": {},
   "source": [
    "# Select columns 'Age', 'LungCap', and 'Height' for correlation matrix"
   ]
  },
  {
   "cell_type": "code",
   "execution_count": null,
   "id": "9f725244",
   "metadata": {},
   "outputs": [],
   "source": [
    "selected_columns = ['Age', 'LungCap', 'Height']"
   ]
  },
  {
   "cell_type": "code",
   "execution_count": null,
   "id": "3ecca7a9",
   "metadata": {},
   "outputs": [],
   "source": [
    "correlation_matrix = lungcapacity_df[selected_columns].corr()"
   ]
  },
  {
   "cell_type": "code",
   "execution_count": null,
   "id": "37dde188",
   "metadata": {},
   "outputs": [],
   "source": []
  },
  {
   "cell_type": "markdown",
   "id": "37940dc1",
   "metadata": {},
   "source": [
    "# Print correlation matrix"
   ]
  },
  {
   "cell_type": "code",
   "execution_count": null,
   "id": "0b35994f",
   "metadata": {},
   "outputs": [],
   "source": [
    "print(\"Correlation matrix for Age, LungCap, and Height:\\n\", correlation_matrix)"
   ]
  },
  {
   "cell_type": "code",
   "execution_count": null,
   "id": "558aa40b",
   "metadata": {},
   "outputs": [],
   "source": []
  },
  {
   "cell_type": "markdown",
   "id": "2d9d1b41",
   "metadata": {},
   "source": [
    "# Heatmap of correlation matrix"
   ]
  },
  {
   "cell_type": "code",
   "execution_count": null,
   "id": "cb95d023",
   "metadata": {},
   "outputs": [],
   "source": [
    "plt.figure(figsize=(6, 4))"
   ]
  },
  {
   "cell_type": "code",
   "execution_count": null,
   "id": "c6781494",
   "metadata": {},
   "outputs": [],
   "source": [
    "sns.heatmap(correlation_matrix, annot=True, cmap='coolwarm', fmt=\".2f\", annot_kws={\"size\": 10})"
   ]
  },
  {
   "cell_type": "code",
   "execution_count": null,
   "id": "82a66507",
   "metadata": {},
   "outputs": [],
   "source": [
    "plt.title('Correlation Matrix (Age, LungCap, Height)')"
   ]
  },
  {
   "cell_type": "code",
   "execution_count": null,
   "id": "162a755e",
   "metadata": {},
   "outputs": [],
   "source": [
    "plt.show()"
   ]
  },
  {
   "cell_type": "code",
   "execution_count": null,
   "id": "1cfe8735",
   "metadata": {},
   "outputs": [],
   "source": []
  },
  {
   "cell_type": "markdown",
   "id": "d9e45720",
   "metadata": {},
   "source": [
    "# Cross-tabulations between 'Gender' and 'Smoke'"
   ]
  },
  {
   "cell_type": "code",
   "execution_count": null,
   "id": "196daf65",
   "metadata": {},
   "outputs": [],
   "source": [
    "cross_tab = pd.crosstab(lungcapacity_df['Gender'], lungcapacity_df['Smoke'])"
   ]
  },
  {
   "cell_type": "code",
   "execution_count": null,
   "id": "a743356a",
   "metadata": {},
   "outputs": [],
   "source": [
    "print(\"Cross-tabulations between Gender and Smoke:\\n\", cross_tab)"
   ]
  },
  {
   "cell_type": "code",
   "execution_count": null,
   "id": "64ee633b",
   "metadata": {},
   "outputs": [],
   "source": []
  },
  {
   "cell_type": "markdown",
   "id": "b6303b3a",
   "metadata": {},
   "source": [
    "# Summary table comparing mean Lung Capacity across different genders"
   ]
  },
  {
   "cell_type": "code",
   "execution_count": null,
   "id": "5327681d",
   "metadata": {},
   "outputs": [],
   "source": [
    "summary_gender = lungcapacity_df.groupby('Gender')['LungCap'].describe()"
   ]
  },
  {
   "cell_type": "code",
   "execution_count": null,
   "id": "47230c06",
   "metadata": {},
   "outputs": [],
   "source": [
    "print(\"Summary table comparing mean LungCap across different genders:\\n\", summary_gender)"
   ]
  },
  {
   "cell_type": "code",
   "execution_count": null,
   "id": "b9036e48",
   "metadata": {},
   "outputs": [],
   "source": []
  },
  {
   "cell_type": "markdown",
   "id": "6d9c10cb",
   "metadata": {},
   "source": [
    "# Summary table comparing mean Lung Capacity across different smoking statuses"
   ]
  },
  {
   "cell_type": "code",
   "execution_count": null,
   "id": "e1f4e96b",
   "metadata": {},
   "outputs": [],
   "source": [
    "summary_smoke = lungcapacity_df.groupby('Smoke')['LungCap'].describe()"
   ]
  },
  {
   "cell_type": "code",
   "execution_count": null,
   "id": "669ed784",
   "metadata": {},
   "outputs": [],
   "source": [
    "print(\"Summary table comparing mean LungCap across different smoking statuses:\\n\", summary_smoke)"
   ]
  },
  {
   "cell_type": "code",
   "execution_count": null,
   "id": "b136dee5",
   "metadata": {},
   "outputs": [],
   "source": []
  },
  {
   "cell_type": "markdown",
   "id": "c8f14c74",
   "metadata": {},
   "source": [
    "# Box plot of Lung Capacity by Gender"
   ]
  },
  {
   "cell_type": "code",
   "execution_count": null,
   "id": "8781b86b",
   "metadata": {},
   "outputs": [],
   "source": [
    "plt.figure(figsize=(8, 6))"
   ]
  },
  {
   "cell_type": "code",
   "execution_count": null,
   "id": "4d613bde",
   "metadata": {},
   "outputs": [],
   "source": [
    "sns.boxplot(x='Gender', y='LungCap', data=lungcapacity_df)"
   ]
  },
  {
   "cell_type": "code",
   "execution_count": null,
   "id": "168150cf",
   "metadata": {},
   "outputs": [],
   "source": [
    "plt.title('Box plot of LungCap by Gender')"
   ]
  },
  {
   "cell_type": "code",
   "execution_count": null,
   "id": "bc138a04",
   "metadata": {},
   "outputs": [],
   "source": [
    "plt.xlabel('Gender')"
   ]
  },
  {
   "cell_type": "code",
   "execution_count": null,
   "id": "5df39f4b",
   "metadata": {},
   "outputs": [],
   "source": [
    "plt.ylabel('Lung Capacity')"
   ]
  },
  {
   "cell_type": "code",
   "execution_count": null,
   "id": "ddd50b29",
   "metadata": {},
   "outputs": [],
   "source": [
    "plt.show()"
   ]
  },
  {
   "cell_type": "code",
   "execution_count": null,
   "id": "b92e6ea7",
   "metadata": {},
   "outputs": [],
   "source": []
  },
  {
   "cell_type": "markdown",
   "id": "f47ab14a",
   "metadata": {},
   "source": [
    "# Box plot of Lung Capacity by Smoking Status"
   ]
  },
  {
   "cell_type": "code",
   "execution_count": null,
   "id": "70955b98",
   "metadata": {},
   "outputs": [],
   "source": [
    "plt.figure(figsize=(8, 6))"
   ]
  },
  {
   "cell_type": "code",
   "execution_count": null,
   "id": "1a300605",
   "metadata": {},
   "outputs": [],
   "source": [
    "sns.boxplot(x='Smoke', y='LungCap', data=lungcapacity_df)"
   ]
  },
  {
   "cell_type": "code",
   "execution_count": null,
   "id": "20c59a41",
   "metadata": {},
   "outputs": [],
   "source": [
    "plt.title('Box plot of LungCap by Smoking Status')"
   ]
  },
  {
   "cell_type": "code",
   "execution_count": null,
   "id": "cfa40de3",
   "metadata": {},
   "outputs": [],
   "source": [
    "plt.xlabel('Smoking Status')"
   ]
  },
  {
   "cell_type": "code",
   "execution_count": null,
   "id": "62666084",
   "metadata": {},
   "outputs": [],
   "source": [
    "plt.ylabel('Lung Capacity')"
   ]
  },
  {
   "cell_type": "code",
   "execution_count": null,
   "id": "6fb7a047",
   "metadata": {},
   "outputs": [],
   "source": [
    "plt.show()"
   ]
  },
  {
   "cell_type": "code",
   "execution_count": null,
   "id": "4911460f",
   "metadata": {},
   "outputs": [],
   "source": []
  },
  {
   "cell_type": "markdown",
   "id": "c6904927",
   "metadata": {},
   "source": [
    "# Scatter plot of Lung Capacity vs Height"
   ]
  },
  {
   "cell_type": "code",
   "execution_count": null,
   "id": "59b749fa",
   "metadata": {},
   "outputs": [],
   "source": [
    "plt.figure(figsize=(8, 6))"
   ]
  },
  {
   "cell_type": "code",
   "execution_count": null,
   "id": "21da1345",
   "metadata": {},
   "outputs": [],
   "source": [
    "sns.scatterplot(x='Height', y='LungCap', data=lungcapacity_df)"
   ]
  },
  {
   "cell_type": "code",
   "execution_count": null,
   "id": "a79f17a4",
   "metadata": {},
   "outputs": [],
   "source": [
    "plt.title('Scatter plot of Lung Capacity vs Height')"
   ]
  },
  {
   "cell_type": "code",
   "execution_count": null,
   "id": "6300a6fc",
   "metadata": {},
   "outputs": [],
   "source": [
    "plt.xlabel('Height')"
   ]
  },
  {
   "cell_type": "code",
   "execution_count": null,
   "id": "cc5b226e",
   "metadata": {},
   "outputs": [],
   "source": [
    "plt.ylabel('Lung Capacity')"
   ]
  },
  {
   "cell_type": "code",
   "execution_count": null,
   "id": "6dd7a2ab",
   "metadata": {},
   "outputs": [],
   "source": [
    "plt.show()"
   ]
  },
  {
   "cell_type": "code",
   "execution_count": null,
   "id": "b1a09f8c",
   "metadata": {},
   "outputs": [],
   "source": []
  },
  {
   "cell_type": "markdown",
   "id": "580ca0a2",
   "metadata": {},
   "source": [
    "# Scatter plot of Lung Capacity vs Age"
   ]
  },
  {
   "cell_type": "code",
   "execution_count": null,
   "id": "ecd598c8",
   "metadata": {},
   "outputs": [],
   "source": [
    "plt.figure(figsize=(8, 6))"
   ]
  },
  {
   "cell_type": "code",
   "execution_count": null,
   "id": "7e6224a3",
   "metadata": {},
   "outputs": [],
   "source": [
    "sns.scatterplot(x='Age', y='LungCap', data=lungcapacity_df)"
   ]
  },
  {
   "cell_type": "code",
   "execution_count": null,
   "id": "b3032c8b",
   "metadata": {},
   "outputs": [],
   "source": [
    "plt.title('Scatter plot of Lung Capacity vs Age')"
   ]
  },
  {
   "cell_type": "code",
   "execution_count": null,
   "id": "36a6b6d0",
   "metadata": {},
   "outputs": [],
   "source": [
    "plt.xlabel('Age')"
   ]
  },
  {
   "cell_type": "code",
   "execution_count": null,
   "id": "cf2f6f6e",
   "metadata": {},
   "outputs": [],
   "source": [
    "plt.ylabel('Lung Capacity')"
   ]
  },
  {
   "cell_type": "code",
   "execution_count": null,
   "id": "58e39dae",
   "metadata": {},
   "outputs": [],
   "source": [
    "plt.show()"
   ]
  },
  {
   "cell_type": "code",
   "execution_count": null,
   "id": "2643aa85",
   "metadata": {},
   "outputs": [],
   "source": []
  },
  {
   "cell_type": "code",
   "execution_count": null,
   "id": "da53ef30",
   "metadata": {},
   "outputs": [],
   "source": [
    "from scipy.stats import chi2_contingency"
   ]
  },
  {
   "cell_type": "code",
   "execution_count": null,
   "id": "05fc09ce",
   "metadata": {},
   "outputs": [],
   "source": []
  },
  {
   "cell_type": "markdown",
   "id": "695f9393",
   "metadata": {},
   "source": [
    "# Create a contingency table between 'Gender' and 'Smoke'"
   ]
  },
  {
   "cell_type": "code",
   "execution_count": null,
   "id": "422612d7",
   "metadata": {},
   "outputs": [],
   "source": [
    "contingency_table = pd.crosstab(lungcapacity_df['Gender'], lungcapacity_df['Smoke'])"
   ]
  },
  {
   "cell_type": "code",
   "execution_count": null,
   "id": "f25166fe",
   "metadata": {},
   "outputs": [],
   "source": []
  },
  {
   "cell_type": "markdown",
   "id": "57b9db58",
   "metadata": {},
   "source": [
    "# Perform the chi-square test"
   ]
  },
  {
   "cell_type": "code",
   "execution_count": null,
   "id": "77282279",
   "metadata": {},
   "outputs": [],
   "source": [
    "chi2_stat, p_val, dof, expected = chi2_contingency(contingency_table)"
   ]
  },
  {
   "cell_type": "code",
   "execution_count": null,
   "id": "a37fb293",
   "metadata": {},
   "outputs": [],
   "source": []
  },
  {
   "cell_type": "markdown",
   "id": "30362000",
   "metadata": {},
   "source": [
    "# Print the results"
   ]
  },
  {
   "cell_type": "code",
   "execution_count": null,
   "id": "a9353a47",
   "metadata": {},
   "outputs": [],
   "source": [
    "print(\"Chi-square statistic:\", chi2_stat)"
   ]
  },
  {
   "cell_type": "code",
   "execution_count": null,
   "id": "7b87f025",
   "metadata": {},
   "outputs": [],
   "source": [
    "print(\"P-value:\", p_val)"
   ]
  },
  {
   "cell_type": "code",
   "execution_count": null,
   "id": "8e13bf36",
   "metadata": {},
   "outputs": [],
   "source": [
    "print(\"Degrees of freedom:\", dof)"
   ]
  },
  {
   "cell_type": "code",
   "execution_count": null,
   "id": "94378b8c",
   "metadata": {},
   "outputs": [],
   "source": [
    "print(\"Expected frequencies:\\n\", expected)"
   ]
  },
  {
   "cell_type": "code",
   "execution_count": null,
   "id": "44247f4b",
   "metadata": {},
   "outputs": [],
   "source": []
  },
  {
   "cell_type": "markdown",
   "id": "cd4edea5",
   "metadata": {},
   "source": [
    "# Determine the significance of the results"
   ]
  },
  {
   "cell_type": "code",
   "execution_count": null,
   "id": "4159da18",
   "metadata": {},
   "outputs": [],
   "source": [
    "alpha = 0.05  # significance level"
   ]
  },
  {
   "cell_type": "code",
   "execution_count": null,
   "id": "4a923d74",
   "metadata": {},
   "outputs": [],
   "source": [
    "if p_val < alpha:"
   ]
  },
  {
   "cell_type": "code",
   "execution_count": null,
   "id": "586c0781",
   "metadata": {},
   "outputs": [],
   "source": [
    "print(\"There is a significant association between Gender and Smoking Status.\")"
   ]
  },
  {
   "cell_type": "code",
   "execution_count": null,
   "id": "250d9ee1",
   "metadata": {},
   "outputs": [],
   "source": [
    "else:"
   ]
  },
  {
   "cell_type": "code",
   "execution_count": null,
   "id": "ddd8ea6c",
   "metadata": {},
   "outputs": [],
   "source": [
    "print(\"There is no significant association between Gender and Smoking Status.\")"
   ]
  },
  {
   "cell_type": "code",
   "execution_count": null,
   "id": "c91f735a",
   "metadata": {},
   "outputs": [],
   "source": []
  },
  {
   "cell_type": "markdown",
   "id": "2713ef25",
   "metadata": {},
   "source": [
    "# Additional information on who smokes and who doesn't by gender"
   ]
  },
  {
   "cell_type": "code",
   "execution_count": null,
   "id": "f38bf092",
   "metadata": {},
   "outputs": [],
   "source": [
    "smoking_by_gender = lungcapacity_df.groupby('Gender')['Smoke'].value_counts()"
   ]
  },
  {
   "cell_type": "code",
   "execution_count": null,
   "id": "e3477ecc",
   "metadata": {},
   "outputs": [],
   "source": [
    "print(\"\\nSmoking status by gender:\\n\", smoking_by_gender)"
   ]
  },
  {
   "cell_type": "code",
   "execution_count": null,
   "id": "ef47ab15",
   "metadata": {},
   "outputs": [],
   "source": []
  },
  {
   "cell_type": "markdown",
   "id": "882b79fa",
   "metadata": {},
   "source": [
    "# Model 1: LungCap vs Height"
   ]
  },
  {
   "cell_type": "code",
   "execution_count": null,
   "id": "d8423423",
   "metadata": {},
   "outputs": [],
   "source": [
    "model1 = ols('LungCap ~ Height', data=lungcapacity_df).fit()"
   ]
  },
  {
   "cell_type": "code",
   "execution_count": null,
   "id": "a7838a45",
   "metadata": {},
   "outputs": [],
   "source": []
  },
  {
   "cell_type": "markdown",
   "id": "662ed3e3",
   "metadata": {},
   "source": [
    "# Model 2: LungCap vs (Height + Height^2)"
   ]
  },
  {
   "cell_type": "code",
   "execution_count": null,
   "id": "3c09dba4",
   "metadata": {},
   "outputs": [],
   "source": [
    "lungcapacity_df['Height_squared'] = lungcapacity_df['Height']**2"
   ]
  },
  {
   "cell_type": "code",
   "execution_count": null,
   "id": "fc7e1179",
   "metadata": {},
   "outputs": [],
   "source": [
    "model2 = ols('LungCap ~ Height + Height_squared', data=lungcapacity_df).fit()"
   ]
  },
  {
   "cell_type": "code",
   "execution_count": null,
   "id": "7065f6e3",
   "metadata": {},
   "outputs": [],
   "source": []
  },
  {
   "cell_type": "markdown",
   "id": "1c45975e",
   "metadata": {},
   "source": [
    "# Model 3: LungCap vs (Height + Height^2 + Height^3)"
   ]
  },
  {
   "cell_type": "code",
   "execution_count": null,
   "id": "3b6c4efb",
   "metadata": {},
   "outputs": [],
   "source": [
    "lungcapacity_df['Height_cubed'] = lungcapacity_df['Height']**3"
   ]
  },
  {
   "cell_type": "code",
   "execution_count": null,
   "id": "d8940a58",
   "metadata": {},
   "outputs": [],
   "source": [
    "model3 = ols('LungCap ~ Height + Height_squared + Height_cubed', data=lungcapacity_df).fit()"
   ]
  },
  {
   "cell_type": "code",
   "execution_count": null,
   "id": "295089f9",
   "metadata": {},
   "outputs": [],
   "source": []
  },
  {
   "cell_type": "markdown",
   "id": "ed68bf94",
   "metadata": {},
   "source": [
    "# ANOVA for Model 1 vs Model 2"
   ]
  },
  {
   "cell_type": "code",
   "execution_count": null,
   "id": "23faa752",
   "metadata": {},
   "outputs": [],
   "source": [
    "anova_results1_2 = sm.stats.anova_lm(model1, model2)"
   ]
  },
  {
   "cell_type": "code",
   "execution_count": null,
   "id": "8052a2c5",
   "metadata": {},
   "outputs": [],
   "source": [
    "print(\"ANOVA results for Model 1 vs Model 2:\\n\", anova_results1_2)"
   ]
  },
  {
   "cell_type": "code",
   "execution_count": null,
   "id": "82b43f44",
   "metadata": {},
   "outputs": [],
   "source": []
  },
  {
   "cell_type": "markdown",
   "id": "2cceb3f3",
   "metadata": {},
   "source": [
    "# ANOVA for Model 2 vs Model 3"
   ]
  },
  {
   "cell_type": "code",
   "execution_count": null,
   "id": "146364fe",
   "metadata": {},
   "outputs": [],
   "source": [
    "anova_results2_3 = sm.stats.anova_lm(model2, model3)"
   ]
  },
  {
   "cell_type": "code",
   "execution_count": null,
   "id": "20a9e7c2",
   "metadata": {},
   "outputs": [],
   "source": [
    "print(\"\\nANOVA results for Model 2 vs Model 3:\\n\", anova_results2_3)"
   ]
  },
  {
   "cell_type": "code",
   "execution_count": null,
   "id": "63e0147c",
   "metadata": {},
   "outputs": [],
   "source": []
  },
  {
   "cell_type": "markdown",
   "id": "e104b720",
   "metadata": {},
   "source": [
    "# Create a range of values for Height"
   ]
  },
  {
   "cell_type": "code",
   "execution_count": null,
   "id": "d4c28512",
   "metadata": {},
   "outputs": [],
   "source": [
    "height_values = np.linspace(lungcapacity_df['Height'].min(), lungcapacity_df['Height'].max(), 100)"
   ]
  },
  {
   "cell_type": "code",
   "execution_count": null,
   "id": "2c15acf1",
   "metadata": {},
   "outputs": [],
   "source": []
  },
  {
   "cell_type": "markdown",
   "id": "00125d76",
   "metadata": {},
   "source": [
    "# Predictions for each model"
   ]
  },
  {
   "cell_type": "code",
   "execution_count": null,
   "id": "830174ab",
   "metadata": {},
   "outputs": [],
   "source": [
    "model1_predictions = model1.predict({'Height': height_values})"
   ]
  },
  {
   "cell_type": "code",
   "execution_count": null,
   "id": "28e96bc8",
   "metadata": {},
   "outputs": [],
   "source": [
    "model2_predictions = model2.predict({'Height': height_values, 'Height_squared': height_values**2})"
   ]
  },
  {
   "cell_type": "code",
   "execution_count": null,
   "id": "ece30fec",
   "metadata": {},
   "outputs": [],
   "source": [
    "model3_predictions = model3.predict({'Height': height_values, 'Height_squared': height_values**2, 'Height_cubed': height_values**3})"
   ]
  },
  {
   "cell_type": "code",
   "execution_count": null,
   "id": "dac7638b",
   "metadata": {},
   "outputs": [],
   "source": []
  },
  {
   "cell_type": "markdown",
   "id": "035d9d94",
   "metadata": {},
   "source": [
    "# Plot all 3 models"
   ]
  },
  {
   "cell_type": "code",
   "execution_count": null,
   "id": "9513f4ea",
   "metadata": {},
   "outputs": [],
   "source": [
    "plt.figure(figsize=(10, 6))"
   ]
  },
  {
   "cell_type": "code",
   "execution_count": null,
   "id": "2d5dab33",
   "metadata": {},
   "outputs": [],
   "source": [
    "plt.scatter(lungcapacity_df['Height'], lungcapacity_df['LungCap'], color='black', label='Actual', alpha=0.5)"
   ]
  },
  {
   "cell_type": "code",
   "execution_count": null,
   "id": "59afdfbd",
   "metadata": {},
   "outputs": [],
   "source": [
    "plt.plot(height_values, model1_predictions, color='red', label='Model 1', linewidth=2)"
   ]
  },
  {
   "cell_type": "code",
   "execution_count": null,
   "id": "1bccd622",
   "metadata": {},
   "outputs": [],
   "source": [
    "plt.plot(height_values, model2_predictions, color='blue', label='Model 2', linewidth=2)"
   ]
  },
  {
   "cell_type": "code",
   "execution_count": null,
   "id": "728c12e7",
   "metadata": {},
   "outputs": [],
   "source": [
    "plt.plot(height_values, model3_predictions, color='green', label='Model 3', linewidth=2)"
   ]
  },
  {
   "cell_type": "code",
   "execution_count": null,
   "id": "f97592cf",
   "metadata": {},
   "outputs": [],
   "source": [
    "plt.xlabel('Height')"
   ]
  },
  {
   "cell_type": "code",
   "execution_count": null,
   "id": "bb4d2ccc",
   "metadata": {},
   "outputs": [],
   "source": [
    "plt.ylabel('Lung Capacity')"
   ]
  },
  {
   "cell_type": "code",
   "execution_count": null,
   "id": "a015d13e",
   "metadata": {},
   "outputs": [],
   "source": [
    "plt.title('Comparison of Models')"
   ]
  },
  {
   "cell_type": "code",
   "execution_count": null,
   "id": "f7b4507e",
   "metadata": {},
   "outputs": [],
   "source": [
    "plt.legend()"
   ]
  },
  {
   "cell_type": "code",
   "execution_count": null,
   "id": "7beefcf4",
   "metadata": {},
   "outputs": [],
   "source": [
    "plt.grid(True)"
   ]
  },
  {
   "cell_type": "code",
   "execution_count": null,
   "id": "62a3709a",
   "metadata": {},
   "outputs": [],
   "source": [
    "plt.show()"
   ]
  },
  {
   "cell_type": "code",
   "execution_count": null,
   "id": "613ead41",
   "metadata": {},
   "outputs": [],
   "source": []
  },
  {
   "cell_type": "markdown",
   "id": "9290a8a2",
   "metadata": {},
   "source": [
    "# Create tables for coefficients and goodness-of-fit statistics"
   ]
  },
  {
   "cell_type": "code",
   "execution_count": null,
   "id": "3bba9b43",
   "metadata": {},
   "outputs": [],
   "source": [
    "tables = [model1.summary().tables[1], model2.summary().tables[1], model3.summary().tables[1]]"
   ]
  },
  {
   "cell_type": "code",
   "execution_count": null,
   "id": "d5b5dbef",
   "metadata": {},
   "outputs": [],
   "source": [
    "titles = ['Model 1 Coefficients', 'Model 2 Coefficients', 'Model 3 Coefficients']"
   ]
  },
  {
   "cell_type": "code",
   "execution_count": null,
   "id": "439032c2",
   "metadata": {},
   "outputs": [],
   "source": []
  },
  {
   "cell_type": "code",
   "execution_count": null,
   "id": "8c10e1b4",
   "metadata": {},
   "outputs": [],
   "source": [
    "for title, table in zip(titles, tables):"
   ]
  },
  {
   "cell_type": "code",
   "execution_count": null,
   "id": "d98690d3",
   "metadata": {},
   "outputs": [],
   "source": [
    "print(title)"
   ]
  },
  {
   "cell_type": "code",
   "execution_count": null,
   "id": "dd8c1565",
   "metadata": {},
   "outputs": [],
   "source": [
    "print(table)"
   ]
  },
  {
   "cell_type": "code",
   "execution_count": null,
   "id": "8acd9282",
   "metadata": {},
   "outputs": [],
   "source": []
  },
  {
   "cell_type": "code",
   "execution_count": null,
   "id": "262126f0",
   "metadata": {},
   "outputs": [],
   "source": [
    "print(\"\\nModel 1 R-squared:\", model1.rsquared)"
   ]
  },
  {
   "cell_type": "code",
   "execution_count": null,
   "id": "d12f3013",
   "metadata": {},
   "outputs": [],
   "source": [
    "print(\"Model 2 R-squared:\", model2.rsquared)"
   ]
  },
  {
   "cell_type": "code",
   "execution_count": null,
   "id": "68cf884e",
   "metadata": {},
   "outputs": [],
   "source": [
    "print(\"Model 3 R-squared:\", model3.rsquared)"
   ]
  },
  {
   "cell_type": "code",
   "execution_count": null,
   "id": "9418f708",
   "metadata": {},
   "outputs": [],
   "source": []
  }
 ],
 "metadata": {},
 "nbformat": 4,
 "nbformat_minor": 5
}
